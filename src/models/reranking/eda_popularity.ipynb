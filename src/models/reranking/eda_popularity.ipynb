{
 "cells": [
  {
   "cell_type": "code",
   "execution_count": 6,
   "metadata": {},
   "outputs": [],
   "source": [
    "import pandas as pd\n",
    "import numpy as np\n",
    "from collections import Counter"
   ]
  },
  {
   "cell_type": "code",
   "execution_count": 4,
   "metadata": {},
   "outputs": [],
   "source": [
    "playlists = pd.read_csv(\"/home/adamgorski/Desktop/inzynierka/conseillify/conseillify-research/data/processed/playlists.csv\").to_numpy()"
   ]
  },
  {
   "cell_type": "code",
   "execution_count": 7,
   "metadata": {},
   "outputs": [],
   "source": [
    "counter_dict = dict(Counter(playlists.flatten()))"
   ]
  },
  {
   "cell_type": "code",
   "execution_count": 9,
   "metadata": {},
   "outputs": [],
   "source": []
  },
  {
   "cell_type": "code",
   "execution_count": 25,
   "metadata": {},
   "outputs": [
    {
     "name": "stdout",
     "output_type": "stream",
     "text": [
      "[[309957819, -1], [46574, 612149], [43447, 643655], [41309, 1294851], [41079, 1773769], [39987, 1723075], [35202, 26023], [35138, 1983319], [34999, 1200340], [34922, 1826595], [34657, 557157], [33699, 235524], [32391, 422745], [32336, 1090568], [32059, 1989690], [31492, 2195027], [31374, 858354], [31119, 1684243], [31106, 520537], [30678, 1763368], [30485, 608456], [30353, 412102], [30173, 2153935], [30123, 26118], [29959, 2211541], [29932, 2095897], [29204, 1301171], [29058, 63293], [29009, 505720], [28448, 886641], [28312, 1475742], [28308, 2224096], [28236, 1168674], [27225, 1014706], [27088, 1586859], [26968, 1636610], [26864, 1311569], [26734, 984228], [26452, 943341], [26155, 1690196], [26150, 555429], [26069, 846001], [25967, 1960304], [25867, 537736], [25733, 1377469], [25455, 1470662], [25363, 521366], [25110, 696849], [25010, 328212], [24824, 1657513], [24682, 1037616], [24637, 1546425], [24557, 1122082], [24541, 1303498], [24539, 189484], [24040, 2153267], [23964, 676863], [23819, 1960692], [23720, 272919], [23646, 2124914], [23633, 254462], [23512, 753018], [23503, 1393596], [23457, 766695], [23295, 242378], [23253, 1734194], [23173, 1992705], [23070, 2124627], [23050, 1692448], [23023, 2204668], [22832, 1156650], [22825, 2134594], [22641, 1300350], [22600, 2208511], [22506, 1506423], [22445, 2216635], [22230, 129388], [22207, 668718], [22087, 1503277], [22077, 276980], [22062, 1102552], [22033, 880258], [21998, 1667993], [21849, 409267], [21726, 172316], [21604, 1978439], [21308, 453698], [21094, 2015995], [21012, 1642234], [20970, 2115670], [20961, 1588469], [20925, 738896], [20904, 1730485], [20738, 958749], [20665, 1984944], [20608, 1623632], [20590, 2106015], [20481, 2005811], [20460, 1950869], [20369, 2179801]]\n"
     ]
    }
   ],
   "source": [
    "reverse_counter_dict = [[amount, track_id ]for track_id, amount in counter_dict.items()]\n",
    "reverse_counter_dict.sort(key=lambda x: x[0], reverse=True)\n",
    "print(reverse_counter_dict[:100])"
   ]
  },
  {
   "cell_type": "code",
   "execution_count": null,
   "metadata": {},
   "outputs": [],
   "source": []
  }
 ],
 "metadata": {
  "kernelspec": {
   "display_name": "Python 3.9.12 ('env': venv)",
   "language": "python",
   "name": "python3"
  },
  "language_info": {
   "codemirror_mode": {
    "name": "ipython",
    "version": 3
   },
   "file_extension": ".py",
   "mimetype": "text/x-python",
   "name": "python",
   "nbconvert_exporter": "python",
   "pygments_lexer": "ipython3",
   "version": "3.9.12"
  },
  "orig_nbformat": 4,
  "vscode": {
   "interpreter": {
    "hash": "520163f1cd47558842bbeb3d8018629964a373bd06cc7061edb7366f9d3fb8a2"
   }
  }
 },
 "nbformat": 4,
 "nbformat_minor": 2
}
