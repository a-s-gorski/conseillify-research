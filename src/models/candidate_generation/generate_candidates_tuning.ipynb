{
 "cells": [
  {
   "cell_type": "code",
   "execution_count": 3,
   "metadata": {},
   "outputs": [],
   "source": [
    "import pickle\n",
    "import numpy as np\n",
    "import pandas as pd\n",
    "from scipy.sparse import csr_matrix\n",
    "from lightfm import LightFM\n",
    "from scipy.sparse import csr_matrix, save_npz, load_npz\n",
    "from lightfm.evaluation import auc_score, precision_at_k, recall_at_k, reciprocal_rank\n",
    "from lightfm.evaluation import auc_score\n",
    "from lightfm.data import Dataset\n",
    "import click\n",
    "import os\n",
    "import logging\n",
    "from numpy.typing import NDArray\n",
    "from typing import Any\n",
    "import pickle\n",
    "from tqdm import tqdm\n",
    "# TODO set k to 500 and test execution time\n",
    "# perform tuning up to loss function, epochs, for top_k_accuracy etc"
   ]
  },
  {
   "cell_type": "markdown",
   "metadata": {},
   "source": []
  },
  {
   "cell_type": "code",
   "execution_count": 4,
   "metadata": {},
   "outputs": [],
   "source": [
    "def load_pickle(input_path) -> Any:\n",
    "    with open(input_path, 'rb') as file:\n",
    "        return pickle.load(file)\n",
    "\n",
    "def save_pickle(object: Any, output_path: str):\n",
    "    with open(output_path, 'wb') as file:\n",
    "        pickle.dump(object, file)"
   ]
  },
  {
   "cell_type": "code",
   "execution_count": 5,
   "metadata": {},
   "outputs": [],
   "source": [
    "input_filepath = \"/home/adamgorski/Desktop/inzynierka/conseillify/conseillify-research/data/dataset\"\n",
    "output_filepath = \"/home/adamgorski/Desktop/inzynierka/conseillify/conseillify-research/data/predictions/candidate_generation\"\n",
    "model_path = \"/home/adamgorski/Desktop/inzynierka/conseillify/conseillify-research/models/candidate_generation\""
   ]
  },
  {
   "cell_type": "code",
   "execution_count": 6,
   "metadata": {},
   "outputs": [],
   "source": [
    "train_interactions = load_npz(os.path.join(input_filepath, \"train_interactions.npz\"))\n",
    "val_interactions = load_npz(os.path.join(input_filepath, \"val_interactions.npz\"))\n",
    "test_interactions = load_npz(os.path.join(input_filepath, \"test_interactions.npz\"))\n",
    "dataset = load_pickle(os.path.join(input_filepath, \"dataset_lightfm\"))"
   ]
  },
  {
   "cell_type": "code",
   "execution_count": 7,
   "metadata": {},
   "outputs": [],
   "source": [
    "search_grid = {\n",
    "    \"no_components\": [5, 10, 25],\n",
    "    \"loss\": ['bpr', 'warp'],\n",
    "    \"epochs\": [3, 8]\n",
    "}\n",
    "grid = {ls: {nc: [e for e in search_grid[\"epochs\"]] for nc in search_grid[\"no_components\"]} for ls in search_grid[\"loss\"]}\n",
    "model_precision_at_k = {ls: {nc: [] for nc in search_grid[\"no_components\"]} for ls in search_grid[\"loss\"]}\n"
   ]
  },
  {
   "cell_type": "code",
   "execution_count": 8,
   "metadata": {},
   "outputs": [
    {
     "name": "stderr",
     "output_type": "stream",
     "text": [
      "Epoch: 100%|██████████| 3/3 [03:45<00:00, 75.07s/it]\n",
      "Epoch: 100%|██████████| 8/8 [10:15<00:00, 76.98s/it]\n",
      "Epoch: 100%|██████████| 3/3 [04:32<00:00, 90.73s/it]\n",
      "Epoch: 100%|██████████| 8/8 [13:49<00:00, 103.74s/it]\n",
      "Epoch: 100%|██████████| 3/3 [05:44<00:00, 114.85s/it]\n",
      "Epoch: 100%|██████████| 8/8 [16:27<00:00, 123.38s/it]\n"
     ]
    }
   ],
   "source": [
    "for ls, no_components in grid.items():\n",
    "    for nc, epochs in no_components.items():\n",
    "        for e in epochs:\n",
    "            model = LightFM(no_components=nc, loss=ls)\n",
    "            model.fit(train_interactions, epochs=e, verbose=True)\n",
    "            prec = np.average(precision_at_k(model, val_interactions, k=500, num_threads=8))\n",
    "            model_precision_at_k[ls][nc].append(prec)\n",
    "\n"
   ]
  },
  {
   "cell_type": "code",
   "execution_count": 5,
   "metadata": {},
   "outputs": [],
   "source": []
  },
  {
   "cell_type": "code",
   "execution_count": null,
   "metadata": {},
   "outputs": [],
   "source": []
  },
  {
   "cell_type": "code",
   "execution_count": 6,
   "metadata": {},
   "outputs": [
    {
     "name": "stderr",
     "output_type": "stream",
     "text": [
      "Epoch: 100%|██████████| 3/3 [01:35<00:00, 31.97s/it]\n"
     ]
    },
    {
     "data": {
      "text/plain": [
       "<lightfm.lightfm.LightFM at 0x7fd241b079a0>"
      ]
     },
     "execution_count": 6,
     "metadata": {},
     "output_type": "execute_result"
    }
   ],
   "source": [
    "model.fit(train_interactions, epochs=3, verbose=True, num_threads=8)"
   ]
  },
  {
   "cell_type": "code",
   "execution_count": 7,
   "metadata": {},
   "outputs": [],
   "source": [
    "model_precision_at_k = precision_at_k(model, val_interactions, k=500, num_threads=8)"
   ]
  },
  {
   "cell_type": "code",
   "execution_count": 9,
   "metadata": {},
   "outputs": [],
   "source": [
    "model_auc_score = auc_score(model, val_interactions , num_threads=8)\n"
   ]
  },
  {
   "cell_type": "code",
   "execution_count": 10,
   "metadata": {},
   "outputs": [
    {
     "name": "stdout",
     "output_type": "stream",
     "text": [
      "(5000,)\n",
      "(5000,)\n"
     ]
    }
   ],
   "source": [
    "print(model_precision_at_k.shape)\n",
    "print(model_auc_score.shape)"
   ]
  },
  {
   "cell_type": "code",
   "execution_count": 12,
   "metadata": {},
   "outputs": [
    {
     "name": "stdout",
     "output_type": "stream",
     "text": [
      "0.035140004\n",
      "0.95094025\n"
     ]
    }
   ],
   "source": [
    "print(np.average(model_precision_at_k))\n",
    "print(np.average(model_auc_score))"
   ]
  },
  {
   "cell_type": "code",
   "execution_count": 8,
   "metadata": {},
   "outputs": [
    {
     "name": "stdout",
     "output_type": "stream",
     "text": [
      "0.0154712\n"
     ]
    }
   ],
   "source": [
    "print(np.average(model_precision_at_k))"
   ]
  },
  {
   "cell_type": "code",
   "execution_count": null,
   "metadata": {},
   "outputs": [],
   "source": []
  }
 ],
 "metadata": {
  "kernelspec": {
   "display_name": "Python 3.9.12 ('env': venv)",
   "language": "python",
   "name": "python3"
  },
  "language_info": {
   "codemirror_mode": {
    "name": "ipython",
    "version": 3
   },
   "file_extension": ".py",
   "mimetype": "text/x-python",
   "name": "python",
   "nbconvert_exporter": "python",
   "pygments_lexer": "ipython3",
   "version": "3.9.12"
  },
  "orig_nbformat": 4,
  "vscode": {
   "interpreter": {
    "hash": "e87170f1512faf514d33b6145134290e8e8cc5cc39eca7db90274a053400de8b"
   }
  }
 },
 "nbformat": 4,
 "nbformat_minor": 2
}
