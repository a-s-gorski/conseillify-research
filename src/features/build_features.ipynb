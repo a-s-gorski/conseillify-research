{
 "cells": [
  {
   "cell_type": "code",
   "execution_count": 13,
   "metadata": {},
   "outputs": [],
   "source": [
    "import pickle\n",
    "import numpy as np\n",
    "import pandas as pd\n",
    "from scipy.sparse import csr_matrix\n",
    "from lightfm import LightFM\n",
    "from scipy.sparse import csr_matrix, save_npz, load_npz\n",
    "from lightfm.evaluation import auc_score\n",
    "from lightfm.data import Dataset\n",
    "import click\n",
    "import os\n",
    "import logging\n",
    "from numpy.typing import NDArray\n",
    "from typing import Any\n",
    "import pickle\n",
    "from tqdm import tqdm"
   ]
  },
  {
   "cell_type": "code",
   "execution_count": 2,
   "metadata": {},
   "outputs": [
    {
     "name": "stdout",
     "output_type": "stream",
     "text": [
      "/home/adamgorski/Desktop/inzynierka/conseillify/conseillify-research/src/features\n"
     ]
    }
   ],
   "source": [
    "! pwd"
   ]
  },
  {
   "cell_type": "code",
   "execution_count": 3,
   "metadata": {},
   "outputs": [],
   "source": [
    "input_filepath = \"/home/adamgorski/Desktop/inzynierka/conseillify/conseillify-research/data/processed\"\n",
    "output_filepath = \"/home/adamgorski/Desktop/inzynierka/conseillify/conseillify-research/data/dataset\""
   ]
  },
  {
   "cell_type": "code",
   "execution_count": 8,
   "metadata": {},
   "outputs": [],
   "source": [
    "def create_interactions_tuples(playlists: NDArray, starting_index: int = 0):\n",
    "    return np.array([(user + starting_index, item, 1)  for user, row in tqdm(enumerate(playlists), total=playlists.shape[0]) for item in row if item != 0])\n",
    "\n",
    "def load_pickle(input_path) -> Any:\n",
    "    with open(input_path) as file:\n",
    "        return pickle.load(file)\n",
    "\n",
    "def save_pickle(object: Any, output_path: str):\n",
    "    with open(output_path, 'wb') as file:\n",
    "        pickle.dump(object, file)"
   ]
  },
  {
   "cell_type": "code",
   "execution_count": 9,
   "metadata": {},
   "outputs": [],
   "source": [
    "dataset = Dataset(user_identity_features=False, item_identity_features=True)\n",
    "logging.info(\"Loading playlists\")\n",
    "train_playlist = pd.read_csv(os.path.join(input_filepath, \"train_playlists.csv\"), index_col=False).to_numpy()\n",
    "val_playlist = pd.read_csv(os.path.join(input_filepath, \"val_playlists.csv\"), index_col=False).to_numpy()\n",
    "test_playlist = pd.read_csv(os.path.join(input_filepath, \"test_playlists.csv\"), index_col=False).to_numpy()\n",
    "songs_encodings = pd.read_csv(os.path.join(input_filepath, \"songs_encodings.csv\"), index_col=False)\n",
    "\n",
    "N_USERS = train_playlist.shape[0] + test_playlist.shape[0] + test_playlist.shape[0]\n",
    "N_ITEMS = songs_encodings.shape[0]\n",
    "logging.info(f\"N_USERS: {N_USERS} N_ITEMS: {N_ITEMS}\")"
   ]
  },
  {
   "cell_type": "code",
   "execution_count": 10,
   "metadata": {},
   "outputs": [],
   "source": [
    "logging.info(\"Fitting datset\")\n",
    "dataset = Dataset(user_identity_features=False, item_identity_features=False)\n",
    "dataset.fit(users=np.arange(0, N_USERS), items=np.arange(1, N_ITEMS+1))\n"
   ]
  },
  {
   "cell_type": "code",
   "execution_count": 14,
   "metadata": {},
   "outputs": [
    {
     "name": "stderr",
     "output_type": "stream",
     "text": [
      "100%|██████████| 990000/990000 [00:48<00:00, 20346.02it/s]\n"
     ]
    }
   ],
   "source": [
    "train_interactions = create_interactions_tuples(train_playlist, 0)\n",
    "train_interactions, _ = dataset.build_interactions(train_interactions)"
   ]
  },
  {
   "cell_type": "code",
   "execution_count": 16,
   "metadata": {},
   "outputs": [
    {
     "name": "stderr",
     "output_type": "stream",
     "text": [
      "100%|██████████| 5000/5000 [00:00<00:00, 18603.57it/s]\n",
      "100%|██████████| 5000/5000 [00:00<00:00, 20124.13it/s]\n"
     ]
    },
    {
     "name": "stderr",
     "output_type": "stream",
     "text": [
      " 11%|█         | 104400/990000 [00:21<00:42, 20794.13it/s]"
     ]
    }
   ],
   "source": [
    "val_interactions = create_interactions_tuples(val_playlist, train_playlist.shape[0])\n",
    "val_interactions, _ = dataset.build_interactions(val_interactions)   \n",
    "\n",
    "test_interactions = create_interactions_tuples(test_playlist, train_playlist.shape[0] + test_playlist.shape[0])\n",
    "test_interactions, _ = dataset.build_interactions(test_interactions)"
   ]
  },
  {
   "cell_type": "code",
   "execution_count": 19,
   "metadata": {},
   "outputs": [],
   "source": [
    "save_npz(os.path.join(output_filepath, 'train_interactions.npz'), train_interactions)\n",
    "save_npz(os.path.join(output_filepath, 'val_interactions.npz'), val_interactions)\n",
    "save_npz(os.path.join(output_filepath, 'test_interactions.npz'), test_interactions)"
   ]
  },
  {
   "cell_type": "code",
   "execution_count": 20,
   "metadata": {},
   "outputs": [],
   "source": [
    "save_pickle(dataset, os.path.join(output_filepath, \"dataset_lightfm\"))"
   ]
  },
  {
   "cell_type": "code",
   "execution_count": null,
   "metadata": {},
   "outputs": [],
   "source": []
  },
  {
   "cell_type": "code",
   "execution_count": null,
   "metadata": {},
   "outputs": [],
   "source": []
  },
  {
   "cell_type": "code",
   "execution_count": null,
   "metadata": {},
   "outputs": [],
   "source": []
  },
  {
   "cell_type": "code",
   "execution_count": null,
   "metadata": {},
   "outputs": [],
   "source": []
  },
  {
   "cell_type": "code",
   "execution_count": 38,
   "metadata": {},
   "outputs": [],
   "source": [
    "# pure collaborative model\n",
    "dataset = Dataset(user_identity_features=False, item_identity_features=False)\n",
    "dataset.fit(users=np.arange(0, N_USERS), items=np.arange(1, N_ITEMS+1), user_features=None, item_features=None)\n",
    "(interactions, weights) = dataset.build_interactions(train_interactions)"
   ]
  },
  {
   "cell_type": "code",
   "execution_count": 39,
   "metadata": {},
   "outputs": [
    {
     "name": "stderr",
     "output_type": "stream",
     "text": [
      "Epoch: 100%|██████████| 3/3 [00:52<00:00, 17.67s/it]\n"
     ]
    },
    {
     "data": {
      "text/plain": [
       "<lightfm.lightfm.LightFM at 0x7fecb2172610>"
      ]
     },
     "execution_count": 39,
     "metadata": {},
     "output_type": "execute_result"
    }
   ],
   "source": [
    "model = LightFM(no_components=20)\n",
    "model.fit(interactions, epochs=3, verbose=True, num_threads=8)"
   ]
  },
  {
   "cell_type": "code",
   "execution_count": 40,
   "metadata": {},
   "outputs": [],
   "source": [
    "test_interactions = test_playlist.to_numpy()\n",
    "test_interactions = np.array([(train_playlist.shape[0] + 1 + user, item, 1)  for user, row in enumerate(test_interactions) for item in row if item != 0])\n",
    "test_interactions, _ = dataset.build_interactions(test_interactions)"
   ]
  },
  {
   "cell_type": "code",
   "execution_count": 41,
   "metadata": {},
   "outputs": [
    {
     "name": "stdout",
     "output_type": "stream",
     "text": [
      "(1000000, 2252192)\n"
     ]
    }
   ],
   "source": [
    "print(test_interactions.shape)"
   ]
  },
  {
   "cell_type": "code",
   "execution_count": 42,
   "metadata": {},
   "outputs": [
    {
     "data": {
      "text/plain": [
       "<lightfm.lightfm.LightFM at 0x7fecb2172610>"
      ]
     },
     "execution_count": 42,
     "metadata": {},
     "output_type": "execute_result"
    }
   ],
   "source": [
    "model.fit_partial(test_interactions)"
   ]
  },
  {
   "cell_type": "code",
   "execution_count": 44,
   "metadata": {},
   "outputs": [
    {
     "data": {
      "text/plain": [
       "array([1.1334163 , 0.71205145, 0.29885036, ..., 0.42696986, 0.29637343,\n",
       "       0.40504098], dtype=float32)"
      ]
     },
     "execution_count": 44,
     "metadata": {},
     "output_type": "execute_result"
    }
   ],
   "source": [
    "model.predict(999, item_ids=np.arange(0, test_interactions.shape[1]))"
   ]
  },
  {
   "cell_type": "code",
   "execution_count": null,
   "metadata": {},
   "outputs": [],
   "source": []
  }
 ],
 "metadata": {
  "kernelspec": {
   "display_name": "Python 3.9.12 ('env': venv)",
   "language": "python",
   "name": "python3"
  },
  "language_info": {
   "codemirror_mode": {
    "name": "ipython",
    "version": 3
   },
   "file_extension": ".py",
   "mimetype": "text/x-python",
   "name": "python",
   "nbconvert_exporter": "python",
   "pygments_lexer": "ipython3",
   "version": "3.9.12"
  },
  "orig_nbformat": 4,
  "vscode": {
   "interpreter": {
    "hash": "e87170f1512faf514d33b6145134290e8e8cc5cc39eca7db90274a053400de8b"
   }
  }
 },
 "nbformat": 4,
 "nbformat_minor": 2
}
