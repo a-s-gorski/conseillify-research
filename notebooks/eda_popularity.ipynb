{
 "cells": [
  {
   "cell_type": "code",
   "execution_count": 7,
   "metadata": {},
   "outputs": [],
   "source": [
    "import pandas as pd\n",
    "import numpy as np\n",
    "from collections import Counter"
   ]
  },
  {
   "cell_type": "code",
   "execution_count": 4,
   "metadata": {},
   "outputs": [],
   "source": [
    "playlists = pd.read_csv(\"/home/adamgorski/Desktop/inzynierka/conseillify/conseillify-research/data/processed/playlists.csv\").to_numpy()"
   ]
  },
  {
   "cell_type": "code",
   "execution_count": 18,
   "metadata": {},
   "outputs": [
    {
     "data": {
      "text/plain": [
       "309957819"
      ]
     },
     "execution_count": 18,
     "metadata": {},
     "output_type": "execute_result"
    }
   ],
   "source": [
    "tracks_dict = dict(Counter(playlists.flatten()))\n",
    "tracks_dict.pop(-1, None)"
   ]
  },
  {
   "cell_type": "code",
   "execution_count": 23,
   "metadata": {},
   "outputs": [
    {
     "name": "stdout",
     "output_type": "stream",
     "text": [
      "29.323512826615136\n",
      "46574\n",
      "1068552\n",
      "1655422\n",
      "tracks above 5 : 526406\n",
      "tracks above 25 : 190078\n",
      "tracks above 50 : 116292\n",
      "tracks above 75 : 86179\n",
      "tracks above 100 : 69400\n",
      "tracks above 250 : 33719\n",
      "tracks above 100 : 69400\n",
      "tracks above 250 : 33719\n",
      "tracks above 400 : 22840\n",
      "tracks above 500 : 18967\n",
      "tracks above 1000 : 10275\n",
      "tracks above 1500 : 7064\n",
      "tracks above 2000 : 5321\n",
      "tracks above 5000 : 1935\n",
      "tracks above 10000 : 657\n",
      "tracks above 20000 : 102\n"
     ]
    }
   ],
   "source": [
    "print(np.average(list(tracks_dict.values())))\n",
    "print(np.max(list(tracks_dict.values())))\n",
    "times_featured = [5, 25, 50, 75, 100, 250, 100, 250, 400, 500, 1000, 1500, 2000, 5000, 10000, 20000]\n",
    "\n",
    "print(len(list(filter(lambda x: x <= 1, list(tracks_dict.values())))))\n",
    "print(len(list(filter(lambda x: x < 5, list(tracks_dict.values())))))\n",
    "\n",
    "for tf in times_featured:\n",
    "    print(f\"tracks above {tf} : {len(list(filter(lambda x: x > tf, list(tracks_dict.values()))))}\")"
   ]
  },
  {
   "cell_type": "code",
   "execution_count": 33,
   "metadata": {},
   "outputs": [
    {
     "name": "stdout",
     "output_type": "stream",
     "text": [
      "15695\n"
     ]
    }
   ],
   "source": [
    "# tracks below 5 - rare\n",
    "# tracks below 10 - semi-rare\n",
    "# tracks below 50 - common\n",
    "# tracks above 100 popular"
   ]
  },
  {
   "cell_type": "code",
   "execution_count": null,
   "metadata": {},
   "outputs": [],
   "source": []
  }
 ],
 "metadata": {
  "kernelspec": {
   "display_name": "Python 3.9.12 ('env': venv)",
   "language": "python",
   "name": "python3"
  },
  "language_info": {
   "codemirror_mode": {
    "name": "ipython",
    "version": 3
   },
   "file_extension": ".py",
   "mimetype": "text/x-python",
   "name": "python",
   "nbconvert_exporter": "python",
   "pygments_lexer": "ipython3",
   "version": "3.9.12"
  },
  "orig_nbformat": 4,
  "vscode": {
   "interpreter": {
    "hash": "520163f1cd47558842bbeb3d8018629964a373bd06cc7061edb7366f9d3fb8a2"
   }
  }
 },
 "nbformat": 4,
 "nbformat_minor": 2
}
