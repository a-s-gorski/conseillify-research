{
 "cells": [
  {
   "cell_type": "code",
   "execution_count": 1,
   "id": "3d886bf2",
   "metadata": {
    "execution": {
     "iopub.execute_input": "2022-08-30T15:27:33.926773Z",
     "iopub.status.busy": "2022-08-30T15:27:33.926141Z",
     "iopub.status.idle": "2022-08-30T15:27:49.124302Z",
     "shell.execute_reply": "2022-08-30T15:27:49.123208Z"
    },
    "papermill": {
     "duration": 15.208974,
     "end_time": "2022-08-30T15:27:49.127698",
     "exception": false,
     "start_time": "2022-08-30T15:27:33.918724",
     "status": "completed"
    },
    "tags": []
   },
   "outputs": [
    {
     "name": "stdout",
     "output_type": "stream",
     "text": [
      "Collecting spotipy\r\n",
      "  Downloading spotipy-2.20.0-py3-none-any.whl (27 kB)\r\n",
      "Requirement already satisfied: six>=1.15.0 in /opt/conda/lib/python3.7/site-packages (from spotipy) (1.15.0)\r\n",
      "Requirement already satisfied: urllib3>=1.26.0 in /opt/conda/lib/python3.7/site-packages (from spotipy) (1.26.11)\r\n",
      "Collecting redis>=3.5.3\r\n",
      "  Downloading redis-4.3.4-py3-none-any.whl (246 kB)\r\n",
      "\u001b[2K     \u001b[90m━━━━━━━━━━━━━━━━━━━━━━━━━━━━━━━━━━━━━\u001b[0m \u001b[32m246.2/246.2 kB\u001b[0m \u001b[31m602.4 kB/s\u001b[0m eta \u001b[36m0:00:00\u001b[0m\r\n",
      "\u001b[?25hRequirement already satisfied: requests>=2.25.0 in /opt/conda/lib/python3.7/site-packages (from spotipy) (2.28.1)\r\n",
      "Requirement already satisfied: importlib-metadata>=1.0 in /opt/conda/lib/python3.7/site-packages (from redis>=3.5.3->spotipy) (4.12.0)\r\n",
      "Requirement already satisfied: typing-extensions in /opt/conda/lib/python3.7/site-packages (from redis>=3.5.3->spotipy) (4.3.0)\r\n",
      "Requirement already satisfied: packaging>=20.4 in /opt/conda/lib/python3.7/site-packages (from redis>=3.5.3->spotipy) (21.3)\r\n",
      "Collecting deprecated>=1.2.3\r\n",
      "  Downloading Deprecated-1.2.13-py2.py3-none-any.whl (9.6 kB)\r\n",
      "Requirement already satisfied: async-timeout>=4.0.2 in /opt/conda/lib/python3.7/site-packages (from redis>=3.5.3->spotipy) (4.0.2)\r\n",
      "Requirement already satisfied: idna<4,>=2.5 in /opt/conda/lib/python3.7/site-packages (from requests>=2.25.0->spotipy) (3.3)\r\n",
      "Requirement already satisfied: certifi>=2017.4.17 in /opt/conda/lib/python3.7/site-packages (from requests>=2.25.0->spotipy) (2022.6.15)\r\n",
      "Requirement already satisfied: charset-normalizer<3,>=2 in /opt/conda/lib/python3.7/site-packages (from requests>=2.25.0->spotipy) (2.1.0)\r\n",
      "Requirement already satisfied: wrapt<2,>=1.10 in /opt/conda/lib/python3.7/site-packages (from deprecated>=1.2.3->redis>=3.5.3->spotipy) (1.12.1)\r\n",
      "Requirement already satisfied: zipp>=0.5 in /opt/conda/lib/python3.7/site-packages (from importlib-metadata>=1.0->redis>=3.5.3->spotipy) (3.8.0)\r\n",
      "Requirement already satisfied: pyparsing!=3.0.5,>=2.0.2 in /opt/conda/lib/python3.7/site-packages (from packaging>=20.4->redis>=3.5.3->spotipy) (3.0.9)\r\n",
      "Installing collected packages: deprecated, redis, spotipy\r\n",
      "Successfully installed deprecated-1.2.13 redis-4.3.4 spotipy-2.20.0\r\n",
      "\u001b[33mWARNING: Running pip as the 'root' user can result in broken permissions and conflicting behaviour with the system package manager. It is recommended to use a virtual environment instead: https://pip.pypa.io/warnings/venv\u001b[0m\u001b[33m\r\n",
      "\u001b[0m"
     ]
    }
   ],
   "source": [
    "!pip install spotipy"
   ]
  },
  {
   "cell_type": "code",
   "execution_count": 2,
   "id": "eaa1a729",
   "metadata": {
    "_cell_guid": "b1076dfc-b9ad-4769-8c92-a6c4dae69d19",
    "_uuid": "8f2839f25d086af736a60e9eeb907d3b93b6e0e5",
    "execution": {
     "iopub.execute_input": "2022-08-30T15:27:49.141493Z",
     "iopub.status.busy": "2022-08-30T15:27:49.140941Z",
     "iopub.status.idle": "2022-08-30T15:27:49.195738Z",
     "shell.execute_reply": "2022-08-30T15:27:49.194619Z"
    },
    "papermill": {
     "duration": 0.064628,
     "end_time": "2022-08-30T15:27:49.198580",
     "exception": false,
     "start_time": "2022-08-30T15:27:49.133952",
     "status": "completed"
    },
    "tags": []
   },
   "outputs": [],
   "source": [
    "import numpy as np # linear algebra\n",
    "import pandas as pd # data processing, CSV file I/O (e.g. pd.read_csv)\n",
    "import spotipy\n",
    "from spotipy.oauth2 import SpotifyClientCredentials\n",
    "import os\n",
    "from tqdm import tqdm"
   ]
  },
  {
   "cell_type": "code",
   "execution_count": 3,
   "id": "19494cd4",
   "metadata": {
    "execution": {
     "iopub.execute_input": "2022-08-30T15:27:49.211554Z",
     "iopub.status.busy": "2022-08-30T15:27:49.211138Z",
     "iopub.status.idle": "2022-08-30T15:27:49.215642Z",
     "shell.execute_reply": "2022-08-30T15:27:49.214643Z"
    },
    "papermill": {
     "duration": 0.013562,
     "end_time": "2022-08-30T15:27:49.217837",
     "exception": false,
     "start_time": "2022-08-30T15:27:49.204275",
     "status": "completed"
    },
    "tags": []
   },
   "outputs": [],
   "source": [
    "SPOTIPY_CLIENT_ID=\"cbce170827e9428380affa66cf57c720\"\n",
    "SPOTIPY_CLIENT_SECRET=\"75a9172cda034ef98ee818ca8d8e043b\""
   ]
  },
  {
   "cell_type": "code",
   "execution_count": 4,
   "id": "2affde17",
   "metadata": {
    "execution": {
     "iopub.execute_input": "2022-08-30T15:27:49.230675Z",
     "iopub.status.busy": "2022-08-30T15:27:49.229898Z",
     "iopub.status.idle": "2022-08-30T15:27:51.954814Z",
     "shell.execute_reply": "2022-08-30T15:27:51.953728Z"
    },
    "papermill": {
     "duration": 2.734996,
     "end_time": "2022-08-30T15:27:51.958395",
     "exception": false,
     "start_time": "2022-08-30T15:27:49.223399",
     "status": "completed"
    },
    "tags": []
   },
   "outputs": [
    {
     "name": "stdout",
     "output_type": "stream",
     "text": [
      "                             track_uris\n",
      "0  spotify:track:0mojspJSs87KOsjvE2KuJF\n",
      "1  spotify:track:199PQ256i0Ztnrdqx2wMvA\n",
      "2  spotify:track:6GEIp2UvaiAlUT5cujmUPL\n",
      "3  spotify:track:1eLJfeb0gqOIUkb22qI549\n",
      "4  spotify:track:5t5NWLijqE7LfuXvhAgdKo\n"
     ]
    }
   ],
   "source": [
    "songs_uris = pd.read_csv(\"../input/spotifyuniquesongs/unique_songs.csv\", index_col=False)\n",
    "print(songs_uris.head())"
   ]
  },
  {
   "cell_type": "code",
   "execution_count": 5,
   "id": "c2b75a37",
   "metadata": {
    "execution": {
     "iopub.execute_input": "2022-08-30T15:27:51.973289Z",
     "iopub.status.busy": "2022-08-30T15:27:51.972180Z",
     "iopub.status.idle": "2022-08-30T15:27:52.039155Z",
     "shell.execute_reply": "2022-08-30T15:27:52.038154Z"
    },
    "papermill": {
     "duration": 0.076342,
     "end_time": "2022-08-30T15:27:52.041752",
     "exception": false,
     "start_time": "2022-08-30T15:27:51.965410",
     "status": "completed"
    },
    "tags": []
   },
   "outputs": [],
   "source": [
    "songs_uris = songs_uris.track_uris.to_list()"
   ]
  },
  {
   "cell_type": "code",
   "execution_count": 6,
   "id": "cdfb77c0",
   "metadata": {
    "execution": {
     "iopub.execute_input": "2022-08-30T15:27:52.054922Z",
     "iopub.status.busy": "2022-08-30T15:27:52.054101Z",
     "iopub.status.idle": "2022-08-30T15:27:52.060858Z",
     "shell.execute_reply": "2022-08-30T15:27:52.059593Z"
    },
    "papermill": {
     "duration": 0.015704,
     "end_time": "2022-08-30T15:27:52.063165",
     "exception": false,
     "start_time": "2022-08-30T15:27:52.047461",
     "status": "completed"
    },
    "tags": []
   },
   "outputs": [],
   "source": [
    "client_credentials_manager = SpotifyClientCredentials(client_id=SPOTIPY_CLIENT_ID, client_secret=SPOTIPY_CLIENT_SECRET)\n",
    "sp = spotipy.Spotify(client_credentials_manager = client_credentials_manager)"
   ]
  },
  {
   "cell_type": "code",
   "execution_count": 7,
   "id": "27c7c6bd",
   "metadata": {
    "execution": {
     "iopub.execute_input": "2022-08-30T15:27:52.076884Z",
     "iopub.status.busy": "2022-08-30T15:27:52.075772Z",
     "iopub.status.idle": "2022-08-30T15:27:52.082877Z",
     "shell.execute_reply": "2022-08-30T15:27:52.081771Z"
    },
    "papermill": {
     "duration": 0.016459,
     "end_time": "2022-08-30T15:27:52.085368",
     "exception": false,
     "start_time": "2022-08-30T15:27:52.068909",
     "status": "completed"
    },
    "tags": []
   },
   "outputs": [],
   "source": [
    "features_keys = ['danceability', 'energy', 'key', 'loudness', 'mode', 'speechiness', 'acousticness', 'instrumentalness', 'liveness', 'valence', 'tempo', 'type']"
   ]
  },
  {
   "cell_type": "code",
   "execution_count": 8,
   "id": "3b6ea662",
   "metadata": {
    "execution": {
     "iopub.execute_input": "2022-08-30T15:27:52.098117Z",
     "iopub.status.busy": "2022-08-30T15:27:52.097709Z",
     "iopub.status.idle": "2022-08-30T15:27:52.306065Z",
     "shell.execute_reply": "2022-08-30T15:27:52.304865Z"
    },
    "papermill": {
     "duration": 0.217348,
     "end_time": "2022-08-30T15:27:52.308380",
     "exception": false,
     "start_time": "2022-08-30T15:27:52.091032",
     "status": "completed"
    },
    "tags": []
   },
   "outputs": [
    {
     "name": "stdout",
     "output_type": "stream",
     "text": [
      "['spotify:track:0mojspJSs87KOsjvE2KuJF', 'spotify:track:199PQ256i0Ztnrdqx2wMvA', 'spotify:track:6GEIp2UvaiAlUT5cujmUPL', 'spotify:track:1eLJfeb0gqOIUkb22qI549', 'spotify:track:5t5NWLijqE7LfuXvhAgdKo', 'spotify:track:4kqsUYcqAgwMc3yqpyj9GY', 'spotify:track:3pmKzeNzD5fILLU0OzZtmH', 'spotify:track:6pDZfypNNSfset3fmpDWHi', 'spotify:track:3Je8RHcdTJ8NGG3krmCHUd', 'spotify:track:16dQ3mPiyuTMr1RnaIGFhp', 'spotify:track:4Du44wbQsEtFQM7HKfvwZa', 'spotify:track:1U0zKU9xSYnYS6DJfzyOsr', 'spotify:track:7BXqIH9zp3TCz23PNhz87l', 'spotify:track:2oUZiX3Lb6XFznDpNZTQ9r', 'spotify:track:0cPKTYnezPWLvz8TxT30RT', 'spotify:track:230YFIJp4PXLDQyvIWlcaq', 'spotify:track:7wofq9SjgI1bvPWQ80rLtF', 'spotify:track:0nTgrhgenyQaBPfzsXwUOo', 'spotify:track:4AvxjIh93FEL0XxS4SlLnl', 'spotify:track:2VASWjU01graj5236bX6ol', 'spotify:track:20MllvmYvXEMj2PQvm3IKf', 'spotify:track:3EAW9dEhzNGOjxX6l7txsV', 'spotify:track:5wYG7LnAI1pQU6kwFaJswW', 'spotify:track:1SZKBlRe0uTWCWRUlEXI4D', 'spotify:track:0UhWvxXuYBbYa2pvDU2fqk', 'spotify:track:0DhUie2VEnvCpNySaV8hfT', 'spotify:track:5arwXUdcLZbhA4PAegM5bC', 'spotify:track:1Sdnn2lObG4F81o3UeJkXl', 'spotify:track:1v3Op09QXPrOI8y0JYOmrV', 'spotify:track:5HdcRdJXoa6llCMJZiEQlZ', 'spotify:track:1uf5dUbwfg2XJvlV19bDoP', 'spotify:track:0Gyqa99bNyMJnjzPSE0b2J', 'spotify:track:4FRQThr95H4WRs4vKlt1CU', 'spotify:track:2I1GNOcO9pVVxFlAsy7fe5', 'spotify:track:3ByhOYr5dx7ktynE4Floz2', 'spotify:track:5pdq4ghWs6LD14z6Qn1e11', 'spotify:track:3CV1AAvUObt9P3kuskoeR7', 'spotify:track:0cZ5JsxTtaYIj2lqhhucpy', 'spotify:track:42n5sv1sd5x7U7f4s2UDaF', 'spotify:track:3Pg7WRYipqa4Yg6asmjZTX', 'spotify:track:3YZk0pVNHJHTbfMNYrshMN', 'spotify:track:6v4rySy5on6sXjH5IryPtC', 'spotify:track:52tfc2fr6DUCHny8Rd8513', 'spotify:track:5S6b9RE9ptV38D5MXbKqir', 'spotify:track:1J9Rj3znHaMqmhi13U5lC8', 'spotify:track:5tn5lArkJKsewF8c4xdrOg', 'spotify:track:1gHLoanhhz5T0Ze9ODaAgv', 'spotify:track:208agLfw4kaErwDhhIfQdY', 'spotify:track:0wI6Z11TTHTAjsAdUZXb9q', 'spotify:track:6StheCsRKmAO409aj7FaLh', 'spotify:track:1tdrGveZa4F64HCNAfodOx', 'spotify:track:0oTVhtXFRChjisVcyu6mxX', 'spotify:track:2v3uWLpM7TZi9ZpFUaUQpN', 'spotify:track:5zj3N4H9y2rlpZ6qa56zTa', 'spotify:track:7p0btRXw9rYpRA9qBkjSfi', 'spotify:track:7s9LfdnKSafuse8UYdUSq9', 'spotify:track:4tIAkJsKolNiEiBwlzrxMH', 'spotify:track:2b1zUJDP60mITS0cEV87e7', 'spotify:track:39liyRcjtC4AnLv3uL9H38', 'spotify:track:6N8RByhornff78rhSSNGfK', 'spotify:track:7eMvO7NbcTNmh48mnMewMP', 'spotify:track:5rlAc5sx4aByZWOIy2LpZR', 'spotify:track:2h0DUW1Q1MU5LUb9raCgtc', 'spotify:track:0Bi3RJ1iS9fv1avVW4Maap', 'spotify:track:7qLBUFg8Bc6iuHCeAXibre', 'spotify:track:5WNhw7uy4c9Nn7uIbbiuDo', 'spotify:track:3TF9siqJhNd29yUlZThZ4L', 'spotify:track:6inMqgpH3a8YuqFr4bSUYt', 'spotify:track:7w3uhrt3R2qn1DCCJYZoMt', 'spotify:track:41ur5pPNAwCRXGdRGo9h7k', 'spotify:track:5pTlK61DzClJjnmTkkzIFG', 'spotify:track:66RR02QD2E0T0FBPNINdlT', 'spotify:track:7M8DLY6T8qtnf5QGW6jQ8b', 'spotify:track:18mqg9528DXPlNUHcHiTLH', 'spotify:track:1kl7kkPnIIEIMbEUWAcVfA', 'spotify:track:2mvVwjtyj97DSifhM75zW1', 'spotify:track:4Z99nSguqpGOHZj4VFuTXZ', 'spotify:track:3AZVisN4v6O3PbmzrbtARU', 'spotify:track:30ZpIsPllqmVkqYV94twjj', 'spotify:track:4L645sRpcWS5phglYoxsrC', 'spotify:track:3KUJ6z6BQ38IWrUe25dW6f', 'spotify:track:56YEivmdgXSDOUbxUwCacW', 'spotify:track:3CZjArKlfMz7F9pRAQvuF3', 'spotify:track:6f7dp4EcpgRusndrGjiW43', 'spotify:track:0I29fAvHSQ3se0n5JvXc7D', 'spotify:track:1nVn1Mf8bUbANYgozOoCuq', 'spotify:track:6Vxoh7jlY3J71VSGq3hadE', 'spotify:track:61iUB6sUL3ARJ0phDHaCGK', 'spotify:track:6neuGmyW4d63pgR4zgyZ9z', 'spotify:track:1jJSlMIqBJ1XMmIjgDiVq6', 'spotify:track:1wprPOWXSSO2OOJ4oN8N1S', 'spotify:track:4BsXhOTV6v6HMdkoxVbjEE', 'spotify:track:2VoMufhAOHsGVhzvaA3fOB', 'spotify:track:21svHgL8NlWthrlW9Gy0BZ', 'spotify:track:5ZbESgVW1kjujIEqUKLYLf', 'spotify:track:5G55Uw4fZPd0lSeFMCtLvO', 'spotify:track:4NCVlP3hnYh92PyUTzk0aQ', 'spotify:track:23vg6Xm8P3EY79pYBzrF7I', 'spotify:track:45AEHRGZPrGRtwvRMbQxHE', 'spotify:track:73grGwddlOwSMuEQDwaPYQ']\n"
     ]
    }
   ],
   "source": [
    "songs_uris = [songs_uris[i:i+100] for i in range(0, len(songs_uris), 100)]\n",
    "print(songs_uris[0])"
   ]
  },
  {
   "cell_type": "code",
   "execution_count": 9,
   "id": "27894506",
   "metadata": {
    "execution": {
     "iopub.execute_input": "2022-08-30T15:27:52.322132Z",
     "iopub.status.busy": "2022-08-30T15:27:52.321447Z",
     "iopub.status.idle": "2022-08-30T16:21:18.045665Z",
     "shell.execute_reply": "2022-08-30T16:21:18.042956Z"
    },
    "papermill": {
     "duration": 3205.73574,
     "end_time": "2022-08-30T16:21:18.050214",
     "exception": false,
     "start_time": "2022-08-30T15:27:52.314474",
     "status": "completed"
    },
    "tags": []
   },
   "outputs": [
    {
     "name": "stderr",
     "output_type": "stream",
     "text": [
      "100%|██████████| 22623/22623 [53:25<00:00,  7.06it/s]"
     ]
    },
    {
     "name": "stdout",
     "output_type": "stream",
     "text": [
      "2252192\n"
     ]
    },
    {
     "name": "stderr",
     "output_type": "stream",
     "text": [
      "\n"
     ]
    }
   ],
   "source": [
    "songs_features = {}\n",
    "\n",
    "for track_list in tqdm(songs_uris):\n",
    "    try:\n",
    "        f_list = sp.audio_features(track_list)\n",
    "        f_list = [{k: d[k] for k in d if k in features_keys} for d in f_list]\n",
    "        for track_uri, track_features in zip(track_list, f_list):\n",
    "            songs_features[track_uri] = track_features\n",
    "    except:\n",
    "        continue\n",
    "\n",
    "print(len(songs_features))"
   ]
  },
  {
   "cell_type": "code",
   "execution_count": 10,
   "id": "b0144c8b",
   "metadata": {
    "execution": {
     "iopub.execute_input": "2022-08-30T16:21:20.937416Z",
     "iopub.status.busy": "2022-08-30T16:21:20.936773Z",
     "iopub.status.idle": "2022-08-30T16:21:26.754676Z",
     "shell.execute_reply": "2022-08-30T16:21:26.753523Z"
    },
    "papermill": {
     "duration": 7.279147,
     "end_time": "2022-08-30T16:21:26.757370",
     "exception": false,
     "start_time": "2022-08-30T16:21:19.478223",
     "status": "completed"
    },
    "tags": []
   },
   "outputs": [],
   "source": [
    "songs_df = [[track_uri, ] +  list(v.values()) for track_uri, v in songs_features.items()]"
   ]
  },
  {
   "cell_type": "code",
   "execution_count": 11,
   "id": "6ecca7f0",
   "metadata": {
    "execution": {
     "iopub.execute_input": "2022-08-30T16:21:29.611206Z",
     "iopub.status.busy": "2022-08-30T16:21:29.610788Z",
     "iopub.status.idle": "2022-08-30T16:21:29.616621Z",
     "shell.execute_reply": "2022-08-30T16:21:29.615224Z"
    },
    "papermill": {
     "duration": 1.439247,
     "end_time": "2022-08-30T16:21:29.619163",
     "exception": false,
     "start_time": "2022-08-30T16:21:28.179916",
     "status": "completed"
    },
    "tags": []
   },
   "outputs": [
    {
     "name": "stdout",
     "output_type": "stream",
     "text": [
      "[['spotify:track:0mojspJSs87KOsjvE2KuJF', 0.723, 0.814, 7, -4.977, 1, 0.151, 0.0335, 0, 0.101, 0.678, 172.153, 'audio_features'], ['spotify:track:199PQ256i0Ztnrdqx2wMvA', 0.438, 0.259, 7, -15.196, 1, 0.0293, 0.888, 0.0669, 0.0805, 0.68, 83.483, 'audio_features']]\n"
     ]
    }
   ],
   "source": [
    "print(songs_df[0:2])"
   ]
  },
  {
   "cell_type": "code",
   "execution_count": 12,
   "id": "a3748610",
   "metadata": {
    "execution": {
     "iopub.execute_input": "2022-08-30T16:21:32.431536Z",
     "iopub.status.busy": "2022-08-30T16:21:32.430900Z",
     "iopub.status.idle": "2022-08-30T16:21:37.928684Z",
     "shell.execute_reply": "2022-08-30T16:21:37.927596Z"
    },
    "papermill": {
     "duration": 6.879514,
     "end_time": "2022-08-30T16:21:37.931666",
     "exception": false,
     "start_time": "2022-08-30T16:21:31.052152",
     "status": "completed"
    },
    "tags": []
   },
   "outputs": [],
   "source": [
    "songs_df = pd.DataFrame(songs_df, columns=[\"track_uri\"]+features_keys)"
   ]
  },
  {
   "cell_type": "code",
   "execution_count": 13,
   "id": "f3976845",
   "metadata": {
    "execution": {
     "iopub.execute_input": "2022-08-30T16:21:40.796616Z",
     "iopub.status.busy": "2022-08-30T16:21:40.795922Z",
     "iopub.status.idle": "2022-08-30T16:21:40.821214Z",
     "shell.execute_reply": "2022-08-30T16:21:40.820344Z"
    },
    "papermill": {
     "duration": 1.464897,
     "end_time": "2022-08-30T16:21:40.823539",
     "exception": false,
     "start_time": "2022-08-30T16:21:39.358642",
     "status": "completed"
    },
    "tags": []
   },
   "outputs": [
    {
     "data": {
      "text/html": [
       "<div>\n",
       "<style scoped>\n",
       "    .dataframe tbody tr th:only-of-type {\n",
       "        vertical-align: middle;\n",
       "    }\n",
       "\n",
       "    .dataframe tbody tr th {\n",
       "        vertical-align: top;\n",
       "    }\n",
       "\n",
       "    .dataframe thead th {\n",
       "        text-align: right;\n",
       "    }\n",
       "</style>\n",
       "<table border=\"1\" class=\"dataframe\">\n",
       "  <thead>\n",
       "    <tr style=\"text-align: right;\">\n",
       "      <th></th>\n",
       "      <th>track_uri</th>\n",
       "      <th>danceability</th>\n",
       "      <th>energy</th>\n",
       "      <th>key</th>\n",
       "      <th>loudness</th>\n",
       "      <th>mode</th>\n",
       "      <th>speechiness</th>\n",
       "      <th>acousticness</th>\n",
       "      <th>instrumentalness</th>\n",
       "      <th>liveness</th>\n",
       "      <th>valence</th>\n",
       "      <th>tempo</th>\n",
       "      <th>type</th>\n",
       "    </tr>\n",
       "  </thead>\n",
       "  <tbody>\n",
       "    <tr>\n",
       "      <th>0</th>\n",
       "      <td>spotify:track:0mojspJSs87KOsjvE2KuJF</td>\n",
       "      <td>0.723</td>\n",
       "      <td>0.814</td>\n",
       "      <td>7</td>\n",
       "      <td>-4.977</td>\n",
       "      <td>1</td>\n",
       "      <td>0.1510</td>\n",
       "      <td>0.033500</td>\n",
       "      <td>0.000000</td>\n",
       "      <td>0.1010</td>\n",
       "      <td>0.678</td>\n",
       "      <td>172.153</td>\n",
       "      <td>audio_features</td>\n",
       "    </tr>\n",
       "    <tr>\n",
       "      <th>1</th>\n",
       "      <td>spotify:track:199PQ256i0Ztnrdqx2wMvA</td>\n",
       "      <td>0.438</td>\n",
       "      <td>0.259</td>\n",
       "      <td>7</td>\n",
       "      <td>-15.196</td>\n",
       "      <td>1</td>\n",
       "      <td>0.0293</td>\n",
       "      <td>0.888000</td>\n",
       "      <td>0.066900</td>\n",
       "      <td>0.0805</td>\n",
       "      <td>0.680</td>\n",
       "      <td>83.483</td>\n",
       "      <td>audio_features</td>\n",
       "    </tr>\n",
       "    <tr>\n",
       "      <th>2</th>\n",
       "      <td>spotify:track:6GEIp2UvaiAlUT5cujmUPL</td>\n",
       "      <td>0.399</td>\n",
       "      <td>0.984</td>\n",
       "      <td>5</td>\n",
       "      <td>-3.094</td>\n",
       "      <td>0</td>\n",
       "      <td>0.0667</td>\n",
       "      <td>0.000003</td>\n",
       "      <td>0.609000</td>\n",
       "      <td>0.0440</td>\n",
       "      <td>0.176</td>\n",
       "      <td>75.031</td>\n",
       "      <td>audio_features</td>\n",
       "    </tr>\n",
       "    <tr>\n",
       "      <th>3</th>\n",
       "      <td>spotify:track:1eLJfeb0gqOIUkb22qI549</td>\n",
       "      <td>0.223</td>\n",
       "      <td>0.716</td>\n",
       "      <td>2</td>\n",
       "      <td>-8.521</td>\n",
       "      <td>1</td>\n",
       "      <td>0.0348</td>\n",
       "      <td>0.001160</td>\n",
       "      <td>0.235000</td>\n",
       "      <td>0.1550</td>\n",
       "      <td>0.739</td>\n",
       "      <td>176.756</td>\n",
       "      <td>audio_features</td>\n",
       "    </tr>\n",
       "    <tr>\n",
       "      <th>4</th>\n",
       "      <td>spotify:track:5t5NWLijqE7LfuXvhAgdKo</td>\n",
       "      <td>0.788</td>\n",
       "      <td>0.810</td>\n",
       "      <td>8</td>\n",
       "      <td>-6.155</td>\n",
       "      <td>1</td>\n",
       "      <td>0.0455</td>\n",
       "      <td>0.482000</td>\n",
       "      <td>0.000268</td>\n",
       "      <td>0.0504</td>\n",
       "      <td>0.941</td>\n",
       "      <td>101.655</td>\n",
       "      <td>audio_features</td>\n",
       "    </tr>\n",
       "  </tbody>\n",
       "</table>\n",
       "</div>"
      ],
      "text/plain": [
       "                              track_uri  danceability  energy  key  loudness  \\\n",
       "0  spotify:track:0mojspJSs87KOsjvE2KuJF         0.723   0.814    7    -4.977   \n",
       "1  spotify:track:199PQ256i0Ztnrdqx2wMvA         0.438   0.259    7   -15.196   \n",
       "2  spotify:track:6GEIp2UvaiAlUT5cujmUPL         0.399   0.984    5    -3.094   \n",
       "3  spotify:track:1eLJfeb0gqOIUkb22qI549         0.223   0.716    2    -8.521   \n",
       "4  spotify:track:5t5NWLijqE7LfuXvhAgdKo         0.788   0.810    8    -6.155   \n",
       "\n",
       "   mode  speechiness  acousticness  instrumentalness  liveness  valence  \\\n",
       "0     1       0.1510      0.033500          0.000000    0.1010    0.678   \n",
       "1     1       0.0293      0.888000          0.066900    0.0805    0.680   \n",
       "2     0       0.0667      0.000003          0.609000    0.0440    0.176   \n",
       "3     1       0.0348      0.001160          0.235000    0.1550    0.739   \n",
       "4     1       0.0455      0.482000          0.000268    0.0504    0.941   \n",
       "\n",
       "     tempo            type  \n",
       "0  172.153  audio_features  \n",
       "1   83.483  audio_features  \n",
       "2   75.031  audio_features  \n",
       "3  176.756  audio_features  \n",
       "4  101.655  audio_features  "
      ]
     },
     "execution_count": 13,
     "metadata": {},
     "output_type": "execute_result"
    }
   ],
   "source": [
    "songs_df.head()"
   ]
  },
  {
   "cell_type": "code",
   "execution_count": 14,
   "id": "3c2eec6c",
   "metadata": {
    "execution": {
     "iopub.execute_input": "2022-08-30T16:21:44.044393Z",
     "iopub.status.busy": "2022-08-30T16:21:44.041396Z",
     "iopub.status.idle": "2022-08-30T16:22:04.856720Z",
     "shell.execute_reply": "2022-08-30T16:22:04.854287Z"
    },
    "papermill": {
     "duration": 22.478921,
     "end_time": "2022-08-30T16:22:04.862460",
     "exception": false,
     "start_time": "2022-08-30T16:21:42.383539",
     "status": "completed"
    },
    "tags": []
   },
   "outputs": [],
   "source": [
    "songs_df.to_csv(\"songs_features.csv\", index=False)"
   ]
  },
  {
   "cell_type": "markdown",
   "id": "ac3a1f9e",
   "metadata": {
    "papermill": {
     "duration": 1.42321,
     "end_time": "2022-08-30T16:22:07.782888",
     "exception": false,
     "start_time": "2022-08-30T16:22:06.359678",
     "status": "completed"
    },
    "tags": []
   },
   "source": [
    "# "
   ]
  }
 ],
 "metadata": {
  "kernelspec": {
   "display_name": "Python 3",
   "language": "python",
   "name": "python3"
  },
  "language_info": {
   "codemirror_mode": {
    "name": "ipython",
    "version": 3
   },
   "file_extension": ".py",
   "mimetype": "text/x-python",
   "name": "python",
   "nbconvert_exporter": "python",
   "pygments_lexer": "ipython3",
   "version": "3.7.12"
  },
  "papermill": {
   "default_parameters": {},
   "duration": 3286.135467,
   "end_time": "2022-08-30T16:22:11.292145",
   "environment_variables": {},
   "exception": null,
   "input_path": "__notebook__.ipynb",
   "output_path": "__notebook__.ipynb",
   "parameters": {},
   "start_time": "2022-08-30T15:27:25.156678",
   "version": "2.3.4"
  }
 },
 "nbformat": 4,
 "nbformat_minor": 5
}
